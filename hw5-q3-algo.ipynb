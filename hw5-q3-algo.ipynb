{
  "metadata": {
    "language_info": {
      "codemirror_mode": {
        "name": "python",
        "version": 3
      },
      "file_extension": ".py",
      "mimetype": "text/x-python",
      "name": "python",
      "nbconvert_exporter": "python",
      "pygments_lexer": "ipython3",
      "version": "3.8"
    },
    "kernelspec": {
      "name": "python",
      "display_name": "Python (Pyodide)",
      "language": "python"
    }
  },
  "nbformat_minor": 4,
  "nbformat": 4,
  "cells": [
    {
      "cell_type": "code",
      "source": "## Suppose we have a population of size 1 million, and suppose 52% of them vote +1 and 48% of them vote −1.",
      "metadata": {
        "trusted": true
      },
      "execution_count": 1,
      "outputs": []
    },
    {
      "cell_type": "code",
      "source": "# The below get_population method works in following manner :-\n\n# Purpose: This function creates a simulated population based on the given proportions of votes.\n# Parameters:\n# total_population: The total number of individuals in the population.\n# percent_plus_one: The percentage of the population voting +1.\n# Process:\n# It first calculates the number of individuals voting -1 (percent_minus_one).\n# Then, it calculates the actual number of individuals voting +1 (pop_plus_one) and -1 (pop_minus_one) based on the given percentages.\n# Two lists are created: one filled with +1's (population_plus_one) and another with -1's (population_minus_one).\n# These two lists are combined to form the complete population.",
      "metadata": {
        "trusted": true
      },
      "execution_count": 2,
      "outputs": []
    },
    {
      "cell_type": "code",
      "source": "import random\n\ndef get_population(total_population, percent_plus_one):\n    percent_minus_one = 1 - percent_plus_one\n    pop_plus_one = int(percent_plus_one * total_population)\n    pop_minus_one = int(percent_minus_one * total_population)\n    population_plus_one = [+1 for _ in range(pop_plus_one)]\n    population_minus_one = [-1 for _ in range(pop_minus_one)]\n    population = population_plus_one + population_minus_one\n    return population",
      "metadata": {
        "trusted": true
      },
      "execution_count": 3,
      "outputs": []
    },
    {
      "cell_type": "code",
      "source": "# The below get_sample_pred method works in following manner :-\n\n# Purpose: To determine the probability of +1 being the majority in randomly picked samples of various sizes.\n# Parameters:\n# population: The list representing the population.\n# sample_sizes: A list of different sample sizes to test.\n# experiments: The number of times to repeat the sampling for each sample size.\n# Process:\n# For each sample size, it performs the specified number of experiments.\n# In each experiment, it randomly selects a sample from the population and checks if +1 is the majority (i.e., the sum of the sample is positive).\n# It counts the number of times +1 is in the majority and calculates the probability for each sample size.",
      "metadata": {
        "trusted": true
      },
      "execution_count": 4,
      "outputs": []
    },
    {
      "cell_type": "code",
      "source": "def get_sample_pred(population, sample_sizes, experiments):\n    answer = {}\n    for sample_size in sample_sizes:\n        majority = 0\n        for _ in range(experiments):\n            sample = random.sample(population, sample_size)\n            if sum(sample) > 0:  # +1 is in the majority\n                majority += 1\n        answer[sample_size] = majority / experiments\n    return answer",
      "metadata": {
        "trusted": true
      },
      "execution_count": 5,
      "outputs": []
    },
    {
      "cell_type": "code",
      "source": "# The below get_majority_threshold method works in following manner :-\n\n# Purpose: To find the smallest sample size for which the probability of +1 being in the majority exceeds a specified threshold.\n# Parameters:\n# answer: A dictionary where keys are sample sizes and values are the corresponding probabilities of +1 being in the majority.\n# value: The threshold probability (default is 0.9).\n# Process:\n# It iterates through the answer dictionary and returns the first sample size where the probability exceeds the given threshold.",
      "metadata": {
        "trusted": true
      },
      "execution_count": 6,
      "outputs": []
    },
    {
      "cell_type": "code",
      "source": "def get_majority_threshold(answer, value=0.9):\n    for sample_size, probability in sorted(answer.items()):\n        if probability > value:\n            return sample_size",
      "metadata": {
        "trusted": true
      },
      "execution_count": 7,
      "outputs": []
    },
    {
      "cell_type": "code",
      "source": "## Part A",
      "metadata": {
        "trusted": true
      },
      "execution_count": 8,
      "outputs": []
    },
    {
      "cell_type": "code",
      "source": "population = get_population(1000000, 0.52)\nsample_sizes = [20, 100, 400]\nanswer_a = get_sample_pred(population, sample_sizes, 100)\nprint(answer_a)",
      "metadata": {
        "trusted": true
      },
      "execution_count": 9,
      "outputs": [
        {
          "name": "stdout",
          "text": "{20: 0.5, 100: 0.6, 400: 0.82}\n",
          "output_type": "stream"
        }
      ]
    },
    {
      "cell_type": "code",
      "source": "## Part B",
      "metadata": {
        "trusted": true
      },
      "execution_count": 10,
      "outputs": []
    },
    {
      "cell_type": "code",
      "source": "population = get_population(1000000, 0.52)\nsample_sizes = [100 * i for i in range(1, 21)]\nanswer_b = get_sample_pred(population, sample_sizes, 100)\nsample = get_majority_threshold(answer_b)\nprint(\"The sample size for probability 0.9 is:\", sample)",
      "metadata": {
        "trusted": true
      },
      "execution_count": 11,
      "outputs": [
        {
          "name": "stdout",
          "text": "The sample size for probability 0.9 is: 1000\n",
          "output_type": "stream"
        }
      ]
    },
    {
      "cell_type": "code",
      "source": "",
      "metadata": {},
      "execution_count": null,
      "outputs": []
    }
  ]
}